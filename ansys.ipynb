{
 "cells": [
  {
   "cell_type": "code",
   "execution_count": 33,
   "metadata": {},
   "outputs": [
    {
     "data": {
      "text/plain": [
       "25.17680268470147"
      ]
     },
     "execution_count": 33,
     "metadata": {},
     "output_type": "execute_result"
    }
   ],
   "source": [
    "from pyansys import examples\n",
    "import pyansys\n",
    "import numpy as np\n",
    "from tqdm import tqdm\n",
    "#rstfile=examples.rstfile\n",
    "rstfile=\"F:\\\\Studienarbeitansis\\\\SA_LoadchangeB_files\\\\dp0\\\\SYS-3\\\\MECH\\\\file.rst\"\n",
    "#rstfile=\"C:\\\\Users\\\\yunyi\\\\Desktop\\\\test\\\\test_files\\\\dp0\\\\SYS\\\\MECH\\\\file.rst\"\n",
    "result = pyansys.read_binary(rstfile)\n",
    "\n",
    "\n",
    "\"\"\"===================================================================================================\"\"\"\n",
    "\n",
    "def Sigma_va(result):\n",
    "    \"\"\"für jeder Timestep wird Sigma_va berechnet\"\"\"\n",
    "    #step=len(result.time_values)-1\n",
    "    \"\"\"nur Anfang und End \"\"\"\n",
    "\n",
    "    \n",
    "    nnum_t_anfang,stress_t_anfang = result.nodal_stress(0)\n",
    "    nnum_t_ende,stress_t_ende = result.nodal_stress(len(result.time_values)-1)\n",
    "    \n",
    "    return Sigma_va_helper(nnum_t_anfang,stress_t_anfang,stress_t_ende)\n",
    "        \n",
    "\n",
    "\"\"\"nan wird as die letzt timestep berechnet\"\"\"      \n",
    "def Sigma_va_helper(nnum_t_anfang,stress_t_anfang,stress_t_ende):\n",
    "    lst_Sigma_i = []\n",
    "    for i in range(nnum_t_anfang[-1]-1):\n",
    "        \"\"\"Parameter für Timestep t\"\"\"\n",
    "        Sigma_X = stress_t_anfang[i,0]\n",
    "        Sigma_Y = stress_t_anfang[i,1]\n",
    "        Sigma_Z = stress_t_anfang[i,2]\n",
    "        Tao_XY = stress_t_anfang[i,3]\n",
    "        Tao_YZ = stress_t_anfang[i,4]\n",
    "        Tao_XZ = stress_t_anfang[i,5]\n",
    "        \"\"\"Parameter für nächste Timestep\"\"\"\n",
    "        Sigma_X_ende = stress_t_ende[i,0]\n",
    "        Sigma_Y_ende = stress_t_ende[i,1]\n",
    "        Sigma_Z_ende = stress_t_ende[i,2]\n",
    "        Tao_XY_ende = stress_t_ende[i,3]\n",
    "        Tao_YZ_ende = stress_t_ende[i,4]\n",
    "        Tao_XZ_ende = stress_t_ende[i,5]\n",
    "        \"\"\"deta Parameter def\"\"\"\n",
    "        if np.isnan(stress_t_anfang[i+1,0])==True or np.isnan(stress_t_ende[i,0])==True:\n",
    "            deta_Sigma_X = 0\n",
    "            deta_Sigma_Y = 0\n",
    "            deta_Sigma_Z = 0\n",
    "            deta_Tao_XY = 0\n",
    "            deta_Tao_YZ = 0\n",
    "            deta_Tao_XZ = 0\n",
    "        else:\n",
    "            deta_Sigma_X = Sigma_X_ende - Sigma_X\n",
    "            deta_Sigma_Y = Sigma_Y_ende - Sigma_Y\n",
    "            deta_Sigma_Z = Sigma_Z_ende - Sigma_Z\n",
    "            deta_Tao_XY = Tao_XY_ende - Tao_XY\n",
    "            deta_Tao_YZ = Tao_YZ_ende - Tao_YZ\n",
    "            deta_Tao_XZ = Tao_XZ_ende - Tao_XZ\n",
    "            \n",
    "            \n",
    "        lst_Sigma_i.append(np.sqrt(0.5*((deta_Sigma_X-deta_Sigma_Y)**2+(deta_Sigma_Y-deta_Sigma_Z)**2+(deta_Sigma_X-deta_Sigma_Z)**2+6*(deta_Tao_XY**2+deta_Tao_YZ**2+deta_Tao_XZ**2))))\n",
    "    \n",
    "    return lst_Sigma_i\n",
    "    \n",
    "max(Sigma_va(result))"
   ]
  },
  {
   "cell_type": "code",
   "execution_count": 3,
   "metadata": {},
   "outputs": [
    {
     "data": {
      "text/plain": [
       "60"
      ]
     },
     "execution_count": 3,
     "metadata": {},
     "output_type": "execute_result"
    }
   ],
   "source": [
    "x_time=result.time_values[0:-1]\n",
    "len(x_time)"
   ]
  },
  {
   "cell_type": "code",
   "execution_count": 28,
   "metadata": {},
   "outputs": [],
   "source": [
    "nnum_t_ende,stress_t_ende = result.nodal_stress(len(result.time_values)-1)"
   ]
  },
  {
   "cell_type": "code",
   "execution_count": 29,
   "metadata": {},
   "outputs": [],
   "source": [
    "nnum_t_anfang,stress_t_anfang = result.nodal_stress(0)"
   ]
  },
  {
   "cell_type": "code",
   "execution_count": 30,
   "metadata": {},
   "outputs": [
    {
     "data": {
      "text/plain": [
       "array([[ -717996.25  , 28188712.    , -1146717.625 ,  6069434.    ,\n",
       "        -5943310.5   ,  1550363.    ],\n",
       "       [ -864884.875 , 28150792.    , -1066313.25  ,  6057727.    ,\n",
       "        -5929541.5   ,  1489575.    ],\n",
       "       [ -969388.5625, 28071816.    , -1057110.75  ,  6042503.    ,\n",
       "        -5916060.5   ,  1439465.875 ],\n",
       "       ...,\n",
       "       [          nan,           nan,           nan,           nan,\n",
       "                  nan,           nan],\n",
       "       [          nan,           nan,           nan,           nan,\n",
       "                  nan,           nan],\n",
       "       [          nan,           nan,           nan,           nan,\n",
       "                  nan,           nan]])"
      ]
     },
     "execution_count": 30,
     "metadata": {},
     "output_type": "execute_result"
    }
   ],
   "source": [
    "stress_t_anfang"
   ]
  },
  {
   "cell_type": "code",
   "execution_count": 31,
   "metadata": {},
   "outputs": [
    {
     "data": {
      "text/plain": [
       "array([[ -1629335.625,  58597620.   ,  -2571000.5  ,  12579810.   ,\n",
       "        -12364008.   ,   3056996.5  ],\n",
       "       [ -1954454.125,  58457004.   ,  -2385325.5  ,  12557221.   ,\n",
       "        -12318650.   ,   2944656.5  ],\n",
       "       [ -2173837.75 ,  58265088.   ,  -2343264.   ,  12527779.   ,\n",
       "        -12280328.   ,   2849602.25 ],\n",
       "       ...,\n",
       "       [          nan,           nan,           nan,           nan,\n",
       "                  nan,           nan],\n",
       "       [          nan,           nan,           nan,           nan,\n",
       "                  nan,           nan],\n",
       "       [          nan,           nan,           nan,           nan,\n",
       "                  nan,           nan]])"
      ]
     },
     "execution_count": 31,
     "metadata": {},
     "output_type": "execute_result"
    }
   ],
   "source": [
    "stress_t_ende"
   ]
  },
  {
   "cell_type": "code",
   "execution_count": null,
   "metadata": {},
   "outputs": [],
   "source": []
  }
 ],
 "metadata": {
  "kernelspec": {
   "display_name": "Python 3",
   "language": "python",
   "name": "python3"
  },
  "language_info": {
   "codemirror_mode": {
    "name": "ipython",
    "version": 3
   },
   "file_extension": ".py",
   "mimetype": "text/x-python",
   "name": "python",
   "nbconvert_exporter": "python",
   "pygments_lexer": "ipython3",
   "version": "3.7.4"
  }
 },
 "nbformat": 4,
 "nbformat_minor": 2
}
