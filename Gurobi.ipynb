{
 "cells": [
  {
   "cell_type": "code",
   "execution_count": 1,
   "metadata": {},
   "outputs": [],
   "source": [
    "import gurobi\n",
    "import pandas as pd"
   ]
  },
  {
   "cell_type": "markdown",
   "metadata": {},
   "source": [
    "### parameter erstellen"
   ]
  },
  {
   "cell_type": "code",
   "execution_count": 2,
   "metadata": {},
   "outputs": [],
   "source": [
    "#individual weight pw pw[1] für pojekt 1 pw[2]für Projekt 2 un\n",
    "#pw1 für Zeit weight,pw2 für Resource weight \n",
    "pw=[(0.9,0.1),(0.8,0.2)]\n"
   ]
  },
  {
   "cell_type": "code",
   "execution_count": 3,
   "metadata": {},
   "outputs": [],
   "source": [
    "#Zeit und Resource Bedarf erstellen\n",
    "#zwei Projekt mit jeder 7 Aufgabe"
   ]
  },
  {
   "cell_type": "code",
   "execution_count": 4,
   "metadata": {},
   "outputs": [],
   "source": [
    "time=[[3,2,2,5,2],[1,3,5,2,2]]\n",
    "resource=[[4,1,2,3,1],[4,2,1,1,2]]"
   ]
  },
  {
   "cell_type": "code",
   "execution_count": 286,
   "metadata": {},
   "outputs": [
    {
     "data": {
      "text/plain": [
       "[[3, 2, 2, 5, 2], [1, 3, 5, 2, 2]]"
      ]
     },
     "execution_count": 286,
     "metadata": {},
     "output_type": "execute_result"
    }
   ],
   "source": [
    "time"
   ]
  },
  {
   "cell_type": "markdown",
   "metadata": {},
   "source": [
    "### Graph erstellen"
   ]
  },
  {
   "cell_type": "code",
   "execution_count": 363,
   "metadata": {},
   "outputs": [],
   "source": [
    "G1=pd.DataFrame([0]*5 for _ in range(5))\n",
    "G2=pd.DataFrame([0]*5 for _ in range(5))"
   ]
  },
  {
   "cell_type": "code",
   "execution_count": null,
   "metadata": {},
   "outputs": [],
   "source": []
  },
  {
   "cell_type": "code",
   "execution_count": 364,
   "metadata": {},
   "outputs": [],
   "source": [
    "G1.loc[0,1]=1\n",
    "G1.loc[0,2]=1\n",
    "G1.loc[0,3]=1\n",
    "G1.loc[3,4]=1\n",
    "\n",
    "G2.loc[0,2]=1\n",
    "G2.loc[1,3]=1\n",
    "G2.loc[1,4]=1\n"
   ]
  },
  {
   "cell_type": "code",
   "execution_count": 365,
   "metadata": {},
   "outputs": [],
   "source": [
    "depec1=G1.apply(sum)\n",
    "depec2=G2.apply(sum)\n",
    "depencies=[[],[]]\n",
    "for i in range(5):\n",
    "    depencies[0].append(depec1[i])\n",
    "    depencies[1].append(depec2[i])\n",
    "    \n",
    "    "
   ]
  },
  {
   "cell_type": "code",
   "execution_count": 307,
   "metadata": {},
   "outputs": [
    {
     "data": {
      "text/plain": [
       "[[0, 1, 1, 1, 1], [0, 0, 1, 1, 1]]"
      ]
     },
     "execution_count": 307,
     "metadata": {},
     "output_type": "execute_result"
    }
   ],
   "source": [
    "###这是入度，入度为0表示接下来可以做的任务\n",
    "depencies"
   ]
  },
  {
   "cell_type": "code",
   "execution_count": 308,
   "metadata": {},
   "outputs": [
    {
     "data": {
      "text/plain": [
       "0    0\n",
       "1    0\n",
       "2    1\n",
       "3    1\n",
       "4    1\n",
       "dtype: int64"
      ]
     },
     "execution_count": 308,
     "metadata": {},
     "output_type": "execute_result"
    }
   ],
   "source": [
    "G2.apply(sum)"
   ]
  },
  {
   "cell_type": "code",
   "execution_count": 309,
   "metadata": {},
   "outputs": [
    {
     "data": {
      "text/plain": [
       "0    0\n",
       "1    1\n",
       "2    1\n",
       "3    1\n",
       "4    0\n",
       "Name: 0, dtype: int64"
      ]
     },
     "execution_count": 309,
     "metadata": {},
     "output_type": "execute_result"
    }
   ],
   "source": [
    "G1.loc[0]\n"
   ]
  },
  {
   "cell_type": "code",
   "execution_count": 354,
   "metadata": {},
   "outputs": [
    {
     "data": {
      "text/html": [
       "<div>\n",
       "<style scoped>\n",
       "    .dataframe tbody tr th:only-of-type {\n",
       "        vertical-align: middle;\n",
       "    }\n",
       "\n",
       "    .dataframe tbody tr th {\n",
       "        vertical-align: top;\n",
       "    }\n",
       "\n",
       "    .dataframe thead th {\n",
       "        text-align: right;\n",
       "    }\n",
       "</style>\n",
       "<table border=\"1\" class=\"dataframe\">\n",
       "  <thead>\n",
       "    <tr style=\"text-align: right;\">\n",
       "      <th></th>\n",
       "      <th>0</th>\n",
       "      <th>1</th>\n",
       "      <th>2</th>\n",
       "      <th>3</th>\n",
       "      <th>4</th>\n",
       "    </tr>\n",
       "  </thead>\n",
       "  <tbody>\n",
       "    <tr>\n",
       "      <td>0</td>\n",
       "      <td>0</td>\n",
       "      <td>0</td>\n",
       "      <td>1</td>\n",
       "      <td>0</td>\n",
       "      <td>0</td>\n",
       "    </tr>\n",
       "    <tr>\n",
       "      <td>1</td>\n",
       "      <td>0</td>\n",
       "      <td>0</td>\n",
       "      <td>0</td>\n",
       "      <td>1</td>\n",
       "      <td>1</td>\n",
       "    </tr>\n",
       "    <tr>\n",
       "      <td>2</td>\n",
       "      <td>0</td>\n",
       "      <td>0</td>\n",
       "      <td>0</td>\n",
       "      <td>0</td>\n",
       "      <td>0</td>\n",
       "    </tr>\n",
       "    <tr>\n",
       "      <td>3</td>\n",
       "      <td>0</td>\n",
       "      <td>0</td>\n",
       "      <td>0</td>\n",
       "      <td>0</td>\n",
       "      <td>0</td>\n",
       "    </tr>\n",
       "    <tr>\n",
       "      <td>4</td>\n",
       "      <td>0</td>\n",
       "      <td>0</td>\n",
       "      <td>0</td>\n",
       "      <td>0</td>\n",
       "      <td>0</td>\n",
       "    </tr>\n",
       "  </tbody>\n",
       "</table>\n",
       "</div>"
      ],
      "text/plain": [
       "   0  1  2  3  4\n",
       "0  0  0  1  0  0\n",
       "1  0  0  0  1  1\n",
       "2  0  0  0  0  0\n",
       "3  0  0  0  0  0\n",
       "4  0  0  0  0  0"
      ]
     },
     "execution_count": 354,
     "metadata": {},
     "output_type": "execute_result"
    }
   ],
   "source": [
    "G2"
   ]
  },
  {
   "cell_type": "code",
   "execution_count": 355,
   "metadata": {},
   "outputs": [
    {
     "data": {
      "text/html": [
       "<div>\n",
       "<style scoped>\n",
       "    .dataframe tbody tr th:only-of-type {\n",
       "        vertical-align: middle;\n",
       "    }\n",
       "\n",
       "    .dataframe tbody tr th {\n",
       "        vertical-align: top;\n",
       "    }\n",
       "\n",
       "    .dataframe thead th {\n",
       "        text-align: right;\n",
       "    }\n",
       "</style>\n",
       "<table border=\"1\" class=\"dataframe\">\n",
       "  <thead>\n",
       "    <tr style=\"text-align: right;\">\n",
       "      <th></th>\n",
       "      <th>0</th>\n",
       "      <th>1</th>\n",
       "      <th>2</th>\n",
       "      <th>3</th>\n",
       "      <th>4</th>\n",
       "    </tr>\n",
       "  </thead>\n",
       "  <tbody>\n",
       "    <tr>\n",
       "      <td>0</td>\n",
       "      <td>0</td>\n",
       "      <td>1</td>\n",
       "      <td>1</td>\n",
       "      <td>1</td>\n",
       "      <td>0</td>\n",
       "    </tr>\n",
       "    <tr>\n",
       "      <td>1</td>\n",
       "      <td>0</td>\n",
       "      <td>0</td>\n",
       "      <td>0</td>\n",
       "      <td>0</td>\n",
       "      <td>0</td>\n",
       "    </tr>\n",
       "    <tr>\n",
       "      <td>2</td>\n",
       "      <td>0</td>\n",
       "      <td>0</td>\n",
       "      <td>0</td>\n",
       "      <td>0</td>\n",
       "      <td>0</td>\n",
       "    </tr>\n",
       "    <tr>\n",
       "      <td>3</td>\n",
       "      <td>0</td>\n",
       "      <td>0</td>\n",
       "      <td>0</td>\n",
       "      <td>0</td>\n",
       "      <td>1</td>\n",
       "    </tr>\n",
       "    <tr>\n",
       "      <td>4</td>\n",
       "      <td>0</td>\n",
       "      <td>0</td>\n",
       "      <td>0</td>\n",
       "      <td>0</td>\n",
       "      <td>0</td>\n",
       "    </tr>\n",
       "  </tbody>\n",
       "</table>\n",
       "</div>"
      ],
      "text/plain": [
       "   0  1  2  3  4\n",
       "0  0  1  1  1  0\n",
       "1  0  0  0  0  0\n",
       "2  0  0  0  0  0\n",
       "3  0  0  0  0  1\n",
       "4  0  0  0  0  0"
      ]
     },
     "execution_count": 355,
     "metadata": {},
     "output_type": "execute_result"
    }
   ],
   "source": [
    "G1"
   ]
  },
  {
   "cell_type": "code",
   "execution_count": 356,
   "metadata": {},
   "outputs": [],
   "source": [
    "Jobqueue=[]\n",
    "#######计算入度###########\n",
    "depec1=G1.apply(sum)\n",
    "depec2=G2.apply(sum)\n",
    "depencies=[[],[]]\n",
    "for i in range(5):\n",
    "    depencies[0].append(depec1[i])\n",
    "    depencies[1].append(depec2[i])\n",
    "##########把入度为0且需要资源小于等于可用资源的Job添加到Jobqueue里###########\n",
    "for i in range(len(depencies)):\n",
    "    for j in range(len(depencices[i])):\n",
    "        if depencices[i][j]==0 and Resource-resource[i][j]>=0:\n",
    "            Jobqueue.append([i,j])\n",
    "    "
   ]
  },
  {
   "cell_type": "code",
   "execution_count": 341,
   "metadata": {},
   "outputs": [
    {
     "data": {
      "text/plain": [
       "[]"
      ]
     },
     "execution_count": 341,
     "metadata": {},
     "output_type": "execute_result"
    }
   ],
   "source": [
    "Jobqueue"
   ]
  },
  {
   "cell_type": "markdown",
   "metadata": {},
   "source": [
    "### Simulator"
   ]
  },
  {
   "cell_type": "code",
   "execution_count": 2,
   "metadata": {},
   "outputs": [
    {
     "name": "stdout",
     "output_type": "stream",
     "text": [
      "t=0s时刻,可用资源为4，正在执行的任务有[],可以执行的任务有[[0, 0], [1, 0], [1, 1]],已经完成的任务有[]\n",
      "t=0s时刻,可用资源为0，正在执行的任务有[[0, 0]],可以执行的任务有[],已经完成的任务有[]\n",
      "t=1s时刻,可用资源为0，正在执行的任务有[[0, 0]],可以执行的任务有[],已经完成的任务有[]\n",
      "t=2s时刻,可用资源为0，正在执行的任务有[[0, 0]],可以执行的任务有[],已经完成的任务有[]\n",
      "t=3s时刻,可用资源为4，正在执行的任务有[],可以执行的任务有[[0, 1], [0, 2], [0, 3], [1, 0], [1, 1]],已经完成的任务有[[0, 0]]\n",
      "t=3s时刻,可用资源为0，正在执行的任务有[[1, 0]],可以执行的任务有[],已经完成的任务有[[0, 0]]\n",
      "t=4s时刻,可用资源为4，正在执行的任务有[],可以执行的任务有[[0, 1], [0, 2], [0, 3], [1, 1], [1, 2]],已经完成的任务有[[0, 0], [1, 0]]\n",
      "t=4s时刻,可用资源为1，正在执行的任务有[[0, 3]],可以执行的任务有[[0, 1], [1, 2]],已经完成的任务有[[0, 0], [1, 0]]\n",
      "t=4s时刻,可用资源为0，正在执行的任务有[[0, 3], [1, 2]],可以执行的任务有[],已经完成的任务有[[0, 0], [1, 0]]\n",
      "t=5s时刻,可用资源为0，正在执行的任务有[[0, 3], [1, 2]],可以执行的任务有[],已经完成的任务有[[0, 0], [1, 0]]\n",
      "t=6s时刻,可用资源为0，正在执行的任务有[[0, 3], [1, 2]],可以执行的任务有[],已经完成的任务有[[0, 0], [1, 0]]\n",
      "t=7s时刻,可用资源为0，正在执行的任务有[[0, 3], [1, 2]],可以执行的任务有[],已经完成的任务有[[0, 0], [1, 0]]\n",
      "t=8s时刻,可用资源为0，正在执行的任务有[[0, 3], [1, 2]],可以执行的任务有[],已经完成的任务有[[0, 0], [1, 0]]\n",
      "t=9s时刻,可用资源为4，正在执行的任务有[],可以执行的任务有[[0, 1], [0, 2], [0, 4], [1, 1]],已经完成的任务有[[0, 0], [1, 0], [1, 2], [0, 3]]\n",
      "t=9s时刻,可用资源为2，正在执行的任务有[[1, 1]],可以执行的任务有[[0, 1], [0, 2], [0, 4]],已经完成的任务有[[0, 0], [1, 0], [1, 2], [0, 3]]\n",
      "t=9s时刻,可用资源为0，正在执行的任务有[[1, 1], [0, 2]],可以执行的任务有[],已经完成的任务有[[0, 0], [1, 0], [1, 2], [0, 3]]\n",
      "t=10s时刻,可用资源为0，正在执行的任务有[[1, 1], [0, 2]],可以执行的任务有[],已经完成的任务有[[0, 0], [1, 0], [1, 2], [0, 3]]\n",
      "t=11s时刻,可用资源为2，正在执行的任务有[[1, 1]],可以执行的任务有[[0, 1], [0, 4]],已经完成的任务有[[0, 0], [1, 0], [1, 2], [0, 3], [0, 2]]\n",
      "t=11s时刻,可用资源为1，正在执行的任务有[[1, 1], [0, 4]],可以执行的任务有[[0, 1]],已经完成的任务有[[0, 0], [1, 0], [1, 2], [0, 3], [0, 2]]\n",
      "t=11s时刻,可用资源为0，正在执行的任务有[[1, 1], [0, 4], [0, 1]],可以执行的任务有[],已经完成的任务有[[0, 0], [1, 0], [1, 2], [0, 3], [0, 2]]\n",
      "t=12s时刻,可用资源为2，正在执行的任务有[[0, 4], [0, 1]],可以执行的任务有[[1, 3], [1, 4]],已经完成的任务有[[0, 0], [1, 0], [1, 2], [0, 3], [0, 2], [1, 1]]\n",
      "t=12s时刻,可用资源为0，正在执行的任务有[[0, 4], [0, 1], [1, 4]],可以执行的任务有[],已经完成的任务有[[0, 0], [1, 0], [1, 2], [0, 3], [0, 2], [1, 1]]\n",
      "t=13s时刻,可用资源为2，正在执行的任务有[[1, 4]],可以执行的任务有[[1, 3]],已经完成的任务有[[0, 0], [1, 0], [1, 2], [0, 3], [0, 2], [1, 1], [0, 1], [0, 4]]\n",
      "t=13s时刻,可用资源为1，正在执行的任务有[[1, 4], [1, 3]],可以执行的任务有[],已经完成的任务有[[0, 0], [1, 0], [1, 2], [0, 3], [0, 2], [1, 1], [0, 1], [0, 4]]\n",
      "t=14s时刻,可用资源为3，正在执行的任务有[[1, 3]],可以执行的任务有[],已经完成的任务有[[0, 0], [1, 0], [1, 2], [0, 3], [0, 2], [1, 1], [0, 1], [0, 4], [1, 4]]\n",
      "t=15s时刻,可用资源为4，正在执行的任务有[],可以执行的任务有[],已经完成的任务有[[0, 0], [1, 0], [1, 2], [0, 3], [0, 2], [1, 1], [0, 1], [0, 4], [1, 4], [1, 3]]\n",
      "完成的任务分别为[[0, 0], [1, 0], [1, 2], [0, 3], [0, 2], [1, 1], [0, 1], [0, 4], [1, 4], [1, 3]],它们完成的时间分别为[3, 4, 9, 9, 11, 12, 13, 13, 14, 15]\n",
      "两任务完成的时间分别为13,15\n",
      "任务延迟为0\n"
     ]
    }
   ],
   "source": [
    "pw=[(0.9,0.1),(0.8,0.2)]\n",
    "time=[[3,2,2,5,2],[1,3,5,2,2]]\n",
    "resource=[[4,1,2,3,1],[4,2,1,1,2]]\n",
    "G1=pd.DataFrame([0]*5 for _ in range(5))\n",
    "G2=pd.DataFrame([0]*5 for _ in range(5))\n",
    "G1.loc[0,1]=1\n",
    "G1.loc[0,2]=1\n",
    "G1.loc[0,3]=1\n",
    "G1.loc[3,4]=1\n",
    "\n",
    "G2.loc[0,2]=1\n",
    "G2.loc[1,3]=1\n",
    "G2.loc[1,4]=1\n",
    "\n",
    "Total_Resource=4\n",
    "remain_Resource=4\n",
    "t=0\n",
    "job_started=[]\n",
    "job_finished=[]\n",
    "time_finished=[]\n",
    "doing_job=[]\n",
    "job_end_time=[]\n",
    "finished_Project=False\n",
    "while finished_Project==False:\n",
    "    \n",
    "#for n in range(30):\n",
    "    executable_jobs=[]\n",
    "\n",
    "    #######计算入度###########\n",
    "    depec1=G1.apply(sum)\n",
    "    depec2=G2.apply(sum)\n",
    "    ##########把入度为0且需要资源小于等于可用资源的Job添加到executable_jobs里###########\n",
    "    for i in range(len(depec1)):\n",
    "        if depec1[depec1.index[i]]==0 and remain_Resource-resource[0][depec1.index[i]]>=0:\n",
    "            executable_jobs.append([0,depec1.index[i]])\n",
    "    for j in range(len(depec2)):\n",
    "        if depec2[depec2.index[j]]==0 and remain_Resource-resource[1][depec2.index[j]]>=0:\n",
    "            executable_jobs.append([1,depec2.index[j]]) \n",
    "   \n",
    "     #######检测正在做的任务是否添加进了executable_jobs######\n",
    "    if doing_job != 0:\n",
    "        for i in range(len(executable_jobs)):\n",
    "            for j in executable_jobs:\n",
    "                if j in doing_job:\n",
    "                    executable_jobs.remove(j)\n",
    "        ##\n",
    "        #copy=executable_jobs[:]\n",
    "        #for i in range(len(doing_job)):\n",
    "            #for j in range(len(copy)):\n",
    "                #if doing_job[i]==copy[j]:\n",
    "                    #executable_jobs.pop(j)\n",
    "    print('t={}s时刻,可用资源为{}，正在执行的任务有{},可以执行的任务有{},已经完成的任务有{}'.format(t,remain_Resource,doing_job,executable_jobs,job_finished))\n",
    "    ###########如果executable_jobs中有任务，开始计算他们的优先级#############\n",
    "    if len(executable_jobs)!=0:\n",
    "        priority=[]\n",
    "        time_queue=[]\n",
    "        resource_queue=[]\n",
    "        for i in range(len(executable_jobs)):\n",
    "            time_queue.append(time[executable_jobs[i][0]][executable_jobs[i][1]])\n",
    "            resource_queue.append(resource[executable_jobs[i][0]][executable_jobs[i][1]])\n",
    "            \n",
    "        max_time_in_queue=max(time_queue)        \n",
    "        max_resource_in_queue=max(resource_queue)\n",
    "        #print('可执行任务中，消耗最多得时间是{},消耗最多的资源是{}'.format(max_time_in_queue,max_resource_in_queue))\n",
    "         ###########计算优先度############\n",
    "        for i in range(len(executable_jobs)):\n",
    "            priority.append(pw[executable_jobs[i][0]][1]*(time_queue[i]/max_time_in_queue)+pw[executable_jobs[i][0]][0]*(resource_queue[i]/max_resource_in_queue))\n",
    "        max_priotity=max(priority)\n",
    "        for i in range(len(priority)):\n",
    "            if priority[i] == max_priotity:\n",
    "                todo_job=executable_jobs[i]\n",
    "        doing_job.append(todo_job)\n",
    "        \n",
    "        #print('可执行任务中，他们的优先级分别为{},最大是的{},执行{}任务,正在执行的任务有{}'.format(priority,max_priotity,todo_job,doing_job))\n",
    "        ###########计算消耗的资源和每个正在做的任务预计完成的时间####################\n",
    "        remain_Resource-=resource[todo_job[0]][todo_job[1]]\n",
    "        job_end_time.append(t+time[todo_job[0]][todo_job[1]])\n",
    "        #############为完成时间和正在进行的任务排序，方便接下来弹出################\n",
    "        \n",
    "        \n",
    "        ####################################################################\n",
    "        #print('可用资源为{},正在执行的任务的预计完成时间为{}'.format(remain_Resource,job_end_time))\n",
    "    ###########如果executable_jobs中没有任务，则说明此时刻已经没有可以完成的任务了，跳到t=t+1时刻#############   \n",
    "    else:\n",
    "        t+=1\n",
    "        if len(job_finished)==10 and remain_Resource==4:\n",
    "            finished_Project=True\n",
    "        if len(job_end_time)==1:\n",
    "            if t==job_end_time[0]:\n",
    "                remain_Resource=remain_Resource+resource[doing_job[0][0]][doing_job[0][1]]\n",
    "                if doing_job[0][0]==0:\n",
    "                    G1=G1.drop(doing_job[0][1]).drop(columns=doing_job[0][1])\n",
    "                else:\n",
    "                    G2=G2.drop(doing_job[0][1]).drop(columns=doing_job[0][1])\n",
    "                job_finished.append(doing_job.pop())\n",
    "                time_finished.append(job_end_time.pop())\n",
    "        elif len(job_end_time) > 1: \n",
    "            copy_time=job_end_time[:]\n",
    "            copy_resource=doing_job[:]\n",
    "            for i in range(len(copy_time)):\n",
    "                if t == copy_time[i]:\n",
    "                    remain_Resource=remain_Resource+resource[copy_resource[i][0]][copy_resource[i][1]]\n",
    "                    if copy_resource[i][0]==0:\n",
    "                        G1=G1.drop(copy_resource[i][1]).drop(columns=copy_resource[i][1])\n",
    "                    else:\n",
    "                        G2=G2.drop(copy_resource[i][1]).drop(columns=copy_resource[i][1])\n",
    "                    \n",
    "            lst=[]\n",
    "            for i in range(len(job_end_time)):\n",
    "                if t == job_end_time[i]:\n",
    "                    lst.append(i)\n",
    "            lst.sort(reverse=True)\n",
    "            for i in range(len(lst)):\n",
    "                \n",
    "                job_finished.append(doing_job.pop(lst[i]))\n",
    "                time_finished.append(job_end_time.pop(lst[i]))\n",
    "\n",
    "print('完成的任务分别为{},它们完成的时间分别为{}'.format(job_finished,time_finished))\n",
    "project1_checked=False\n",
    "project2_checked=False\n",
    "for i in range(len(job_finished)-1,-1,-1):\n",
    "    if job_finished[i][0]==1 and project2_checked==False:\n",
    "        project2_finished_time=time_finished[i]\n",
    "        project2_checked =True\n",
    "    elif job_finished[i][0]==0 and project1_checked == False:\n",
    "        project1_finished_time=time_finished[i]\n",
    "        project1_checked = True\n",
    "print('两任务完成的时间分别为{},{}'.format(project1_finished_time,project2_finished_time))\n",
    "\n",
    "Delay=project1_finished_time-13+project2_finished_time-15\n",
    "print('任务延迟为{}'.format(Delay))"
   ]
  },
  {
   "cell_type": "code",
   "execution_count": 215,
   "metadata": {},
   "outputs": [],
   "source": [
    "from gurobipy import *\n",
    "import pandas as pd\n",
    "def Simulator(pw:list):\n",
    "    time=[[3,2,2,5,2],[1,3,5,2,2]]\n",
    "    resource=[[4,1,2,3,1],[4,2,1,1,2]]\n",
    "    G1=pd.DataFrame([0]*5 for _ in range(5))\n",
    "    G2=pd.DataFrame([0]*5 for _ in range(5))\n",
    "    G1.loc[0,1]=1\n",
    "    G1.loc[0,2]=1\n",
    "    G1.loc[0,3]=1\n",
    "    G1.loc[3,4]=1\n",
    "    G2.loc[0,2]=1\n",
    "    G2.loc[1,3]=1\n",
    "    G2.loc[1,4]=1\n",
    "    Total_Resource=4\n",
    "    remain_Resource=4\n",
    "    t=0\n",
    "    job_started=[]\n",
    "    job_finished=[]\n",
    "    time_finished=[]\n",
    "    doing_job=[]\n",
    "    job_end_time=[]\n",
    "    finished_Project=False\n",
    "    while finished_Project==False:\n",
    "        executable_jobs=[]\n",
    "        #######计算入度###########\n",
    "        depec1=G1.apply(sum)\n",
    "        depec2=G2.apply(sum)\n",
    "        ##########把入度为0且需要资源小于等于可用资源的Job添加到executable_jobs里###########\n",
    "        for i in range(len(depec1)):\n",
    "            if depec1[depec1.index[i]]==0 and remain_Resource-resource[0][depec1.index[i]]>=0:\n",
    "                executable_jobs.append([0,depec1.index[i]])\n",
    "        for j in range(len(depec2)):\n",
    "            if depec2[depec2.index[j]]==0 and remain_Resource-resource[1][depec2.index[j]]>=0:\n",
    "                executable_jobs.append([1,depec2.index[j]]) \n",
    "         #######检测正在做的任务是否添加进了executable_jobs######\n",
    "        if doing_job != 0:\n",
    "            for i in range(len(executable_jobs)):\n",
    "                for j in executable_jobs:\n",
    "                    if j in doing_job:\n",
    "                        executable_jobs.remove(j)\n",
    "        #print('t={}s时刻,可用资源为{}，正在执行的任务有{},可以执行的任务有{},已经完成的任务有{}'.format(t,remain_Resource,doing_job,executable_jobs,job_finished))\n",
    "        ###########如果executable_jobs中有任务，开始计算他们的优先级#############\n",
    "        if len(executable_jobs)!=0:\n",
    "            priority=[]\n",
    "            time_queue=[]\n",
    "            resource_queue=[]\n",
    "            for i in range(len(executable_jobs)):\n",
    "                time_queue.append(time[executable_jobs[i][0]][executable_jobs[i][1]])\n",
    "                resource_queue.append(resource[executable_jobs[i][0]][executable_jobs[i][1]])\n",
    "            max_time_in_queue=max(time_queue)        \n",
    "            max_resource_in_queue=max(resource_queue)\n",
    "            #print('可执行任务中，消耗最多得时间是{},消耗最多的资源是{}'.format(max_time_in_queue,max_resource_in_queue))\n",
    "            ###########计算优先度############\n",
    "            for i in range(len(executable_jobs)):\n",
    "                priority.append(pw[executable_jobs[i][0]][1]*(time_queue[i]/max_time_in_queue)+pw[executable_jobs[i][0]][0]*(resource_queue[i]/max_resource_in_queue))\n",
    "            #max_priotity=priority[0]\n",
    "            max_priotity=max(priority)\n",
    "            for i in range(len(priority)):\n",
    "                if priority[i] == max_priotity:\n",
    "                    todo_job=executable_jobs[i]\n",
    "            doing_job.append(todo_job)\n",
    "            ###########计算消耗的资源和每个正在做的任务预计完成的时间####################\n",
    "            remain_Resource-=resource[todo_job[0]][todo_job[1]]\n",
    "            job_end_time.append(t+time[todo_job[0]][todo_job[1]])\n",
    "            ####################################################################\n",
    "            #print('可用资源为{},正在执行的任务的预计完成时间为{}'.format(remain_Resource,job_end_time))\n",
    "            ###########如果executable_jobs中没有任务，则说明此时刻已经没有可以完成的任务了，跳到t=t+1时刻#############   \n",
    "        else:\n",
    "            t+=1\n",
    "            if len(job_finished)==10 and remain_Resource==4:\n",
    "                finished_Project=True\n",
    "            if len(job_end_time)==1:\n",
    "                if t==job_end_time[0]:\n",
    "                    remain_Resource=remain_Resource+resource[doing_job[0][0]][doing_job[0][1]]\n",
    "                    if doing_job[0][0]==0:\n",
    "                        G1=G1.drop(doing_job[0][1]).drop(columns=doing_job[0][1])\n",
    "                    else:\n",
    "                        G2=G2.drop(doing_job[0][1]).drop(columns=doing_job[0][1])\n",
    "                    job_finished.append(doing_job.pop())\n",
    "                    time_finished.append(job_end_time.pop())\n",
    "            elif len(job_end_time) > 1: \n",
    "                copy_time=job_end_time[:]\n",
    "                copy_resource=doing_job[:]\n",
    "                for i in range(len(copy_time)):\n",
    "                    if t == copy_time[i]:\n",
    "                        remain_Resource=remain_Resource+resource[copy_resource[i][0]][copy_resource[i][1]]\n",
    "                        if copy_resource[i][0]==0:\n",
    "                            G1=G1.drop(copy_resource[i][1]).drop(columns=copy_resource[i][1])\n",
    "                        else:\n",
    "                            G2=G2.drop(copy_resource[i][1]).drop(columns=copy_resource[i][1])\n",
    "\n",
    "                lst=[]\n",
    "                for i in range(len(job_end_time)):\n",
    "                    if t == job_end_time[i]:\n",
    "                        lst.append(i)\n",
    "                lst.sort(reverse=True)\n",
    "                for i in range(len(lst)):\n",
    "\n",
    "                    job_finished.append(doing_job.pop(lst[i]))\n",
    "                    time_finished.append(job_end_time.pop(lst[i]))\n",
    "\n",
    "        #print('完成的任务分别为{},它们完成的时间分别为{}'.format(job_finished,time_finished))\n",
    "    project1_checked=False\n",
    "    project2_checked=False\n",
    "    for i in range(len(job_finished)-1,-1,-1):\n",
    "        if job_finished[i][0]==1 and project2_checked==False:\n",
    "            project2_finished_time=time_finished[i]\n",
    "            project2_checked =True\n",
    "        elif job_finished[i][0]==0 and project1_checked == False:\n",
    "            project1_finished_time=time_finished[i]\n",
    "            project1_checked = True\n",
    "        #print('两任务完成的时间分别为{},{}'.format(project1_finished_time,project2_finished_time))\n",
    "\n",
    "    delay=project1_finished_time-13+project2_finished_time-15\n",
    "\n",
    "    return delay"
   ]
  },
  {
   "cell_type": "code",
   "execution_count": 216,
   "metadata": {},
   "outputs": [
    {
     "data": {
      "text/plain": [
       "0"
      ]
     },
     "execution_count": 216,
     "metadata": {},
     "output_type": "execute_result"
    }
   ],
   "source": [
    "Simulator([(0.9,0.1),(0.8,0.2)])"
   ]
  },
  {
   "cell_type": "code",
   "execution_count": 206,
   "metadata": {},
   "outputs": [],
   "source": [
    "m=Model()"
   ]
  },
  {
   "cell_type": "code",
   "execution_count": 217,
   "metadata": {},
   "outputs": [],
   "source": [
    "pw1=m.addVar(0,1,name='pw1')\n",
    "pw2=m.addVar(0,1,name='pw2')\n",
    "pw3=m.addVar(0,1,name='pw3')\n",
    "pw4=m.addVar(0,1,name='pw4')"
   ]
  },
  {
   "cell_type": "code",
   "execution_count": 218,
   "metadata": {},
   "outputs": [],
   "source": [
    "pw=[(pw1,pw2),(pw3,pw4)]"
   ]
  },
  {
   "cell_type": "code",
   "execution_count": 219,
   "metadata": {},
   "outputs": [
    {
     "data": {
      "text/plain": [
       "gurobipy.Var"
      ]
     },
     "execution_count": 219,
     "metadata": {},
     "output_type": "execute_result"
    }
   ],
   "source": [
    "type(pw1)"
   ]
  },
  {
   "cell_type": "code",
   "execution_count": 220,
   "metadata": {},
   "outputs": [
    {
     "ename": "NotImplementedError",
     "evalue": "",
     "output_type": "error",
     "traceback": [
      "\u001b[0;31m---------------------------------------------------------------------------\u001b[0m",
      "\u001b[0;31mNotImplementedError\u001b[0m                       Traceback (most recent call last)",
      "\u001b[0;32m<ipython-input-220-7c1d9eea0c9c>\u001b[0m in \u001b[0;36m<module>\u001b[0;34m\u001b[0m\n\u001b[0;32m----> 1\u001b[0;31m \u001b[0mm\u001b[0m\u001b[0;34m.\u001b[0m\u001b[0msetObjective\u001b[0m\u001b[0;34m(\u001b[0m\u001b[0mSimulator\u001b[0m\u001b[0;34m(\u001b[0m\u001b[0mpw\u001b[0m\u001b[0;34m)\u001b[0m\u001b[0;34m,\u001b[0m\u001b[0mGRB\u001b[0m\u001b[0;34m.\u001b[0m\u001b[0mMINIMIZE\u001b[0m\u001b[0;34m)\u001b[0m\u001b[0;34m\u001b[0m\u001b[0;34m\u001b[0m\u001b[0m\n\u001b[0m",
      "\u001b[0;32m<ipython-input-215-26a6de44eaaf>\u001b[0m in \u001b[0;36mSimulator\u001b[0;34m(pw)\u001b[0m\n\u001b[1;32m     56\u001b[0m                 \u001b[0mpriority\u001b[0m\u001b[0;34m.\u001b[0m\u001b[0mappend\u001b[0m\u001b[0;34m(\u001b[0m\u001b[0mpw\u001b[0m\u001b[0;34m[\u001b[0m\u001b[0mexecutable_jobs\u001b[0m\u001b[0;34m[\u001b[0m\u001b[0mi\u001b[0m\u001b[0;34m]\u001b[0m\u001b[0;34m[\u001b[0m\u001b[0;36m0\u001b[0m\u001b[0;34m]\u001b[0m\u001b[0;34m]\u001b[0m\u001b[0;34m[\u001b[0m\u001b[0;36m1\u001b[0m\u001b[0;34m]\u001b[0m\u001b[0;34m*\u001b[0m\u001b[0;34m(\u001b[0m\u001b[0mtime_queue\u001b[0m\u001b[0;34m[\u001b[0m\u001b[0mi\u001b[0m\u001b[0;34m]\u001b[0m\u001b[0;34m/\u001b[0m\u001b[0mmax_time_in_queue\u001b[0m\u001b[0;34m)\u001b[0m\u001b[0;34m+\u001b[0m\u001b[0mpw\u001b[0m\u001b[0;34m[\u001b[0m\u001b[0mexecutable_jobs\u001b[0m\u001b[0;34m[\u001b[0m\u001b[0mi\u001b[0m\u001b[0;34m]\u001b[0m\u001b[0;34m[\u001b[0m\u001b[0;36m0\u001b[0m\u001b[0;34m]\u001b[0m\u001b[0;34m]\u001b[0m\u001b[0;34m[\u001b[0m\u001b[0;36m0\u001b[0m\u001b[0;34m]\u001b[0m\u001b[0;34m*\u001b[0m\u001b[0;34m(\u001b[0m\u001b[0mresource_queue\u001b[0m\u001b[0;34m[\u001b[0m\u001b[0mi\u001b[0m\u001b[0;34m]\u001b[0m\u001b[0;34m/\u001b[0m\u001b[0mmax_resource_in_queue\u001b[0m\u001b[0;34m)\u001b[0m\u001b[0;34m)\u001b[0m\u001b[0;34m\u001b[0m\u001b[0;34m\u001b[0m\u001b[0m\n\u001b[1;32m     57\u001b[0m             \u001b[0;31m#max_priotity=priority[0]\u001b[0m\u001b[0;34m\u001b[0m\u001b[0;34m\u001b[0m\u001b[0;34m\u001b[0m\u001b[0m\n\u001b[0;32m---> 58\u001b[0;31m             \u001b[0mmax_priotity\u001b[0m\u001b[0;34m=\u001b[0m\u001b[0mmax\u001b[0m\u001b[0;34m(\u001b[0m\u001b[0mpriority\u001b[0m\u001b[0;34m)\u001b[0m\u001b[0;34m\u001b[0m\u001b[0;34m\u001b[0m\u001b[0m\n\u001b[0m\u001b[1;32m     59\u001b[0m             \u001b[0;32mfor\u001b[0m \u001b[0mi\u001b[0m \u001b[0;32min\u001b[0m \u001b[0mrange\u001b[0m\u001b[0;34m(\u001b[0m\u001b[0mlen\u001b[0m\u001b[0;34m(\u001b[0m\u001b[0mpriority\u001b[0m\u001b[0;34m)\u001b[0m\u001b[0;34m)\u001b[0m\u001b[0;34m:\u001b[0m\u001b[0;34m\u001b[0m\u001b[0;34m\u001b[0m\u001b[0m\n\u001b[1;32m     60\u001b[0m                 \u001b[0;32mif\u001b[0m \u001b[0mpriority\u001b[0m\u001b[0;34m[\u001b[0m\u001b[0mi\u001b[0m\u001b[0;34m]\u001b[0m \u001b[0;34m==\u001b[0m \u001b[0mmax_priotity\u001b[0m\u001b[0;34m:\u001b[0m\u001b[0;34m\u001b[0m\u001b[0;34m\u001b[0m\u001b[0m\n",
      "\u001b[0;32mlinexpr.pxi\u001b[0m in \u001b[0;36mgurobipy.LinExpr.__richcmp__\u001b[0;34m()\u001b[0m\n",
      "\u001b[0;31mNotImplementedError\u001b[0m: "
     ]
    }
   ],
   "source": [
    "m.setObjective(Simulator(pw),GRB.MINIMIZE)"
   ]
  },
  {
   "cell_type": "code",
   "execution_count": 221,
   "metadata": {},
   "outputs": [],
   "source": [
    "c1=m.addConstr(pw1+pw2==1)\n",
    "c2=m.addConstr(pw3+pw4==1)"
   ]
  },
  {
   "cell_type": "code",
   "execution_count": 222,
   "metadata": {},
   "outputs": [
    {
     "data": {
      "text/plain": [
       "<gurobi.Model Continuous instance Unnamed: 0 constrs, 0 vars, No parameter changes>"
      ]
     },
     "execution_count": 222,
     "metadata": {},
     "output_type": "execute_result"
    }
   ],
   "source": [
    "m"
   ]
  },
  {
   "cell_type": "code",
   "execution_count": 44,
   "metadata": {},
   "outputs": [
    {
     "name": "stdout",
     "output_type": "stream",
     "text": [
      "Gurobi Optimizer version 9.0.1 build v9.0.1rc0 (mac64)\n",
      "Optimize a model with 2 rows, 4 columns and 4 nonzeros\n",
      "Model fingerprint: 0xa9b0eae3\n",
      "Coefficient statistics:\n",
      "  Matrix range     [1e+00, 1e+00]\n",
      "  Objective range  [0e+00, 0e+00]\n",
      "  Bounds range     [1e+00, 1e+00]\n",
      "  RHS range        [1e+00, 1e+00]\n",
      "Presolve removed 2 rows and 4 columns\n",
      "Presolve time: 0.00s\n",
      "Presolve: All rows and columns removed\n",
      "Iteration    Objective       Primal Inf.    Dual Inf.      Time\n",
      "       0    0.0000000e+00   0.000000e+00   0.000000e+00      0s\n",
      "\n",
      "Solved in 0 iterations and 0.01 seconds\n",
      "Optimal objective  0.000000000e+00\n"
     ]
    }
   ],
   "source": [
    "m.optimize()"
   ]
  },
  {
   "cell_type": "code",
   "execution_count": 45,
   "metadata": {},
   "outputs": [
    {
     "data": {
      "text/plain": [
       "<bound method Model.printAttr of <gurobi.Model Continuous instance Unnamed: 2 constrs, 4 vars, No parameter changes>>"
      ]
     },
     "execution_count": 45,
     "metadata": {},
     "output_type": "execute_result"
    }
   ],
   "source": [
    "m.printAttr"
   ]
  },
  {
   "cell_type": "code",
   "execution_count": 190,
   "metadata": {},
   "outputs": [
    {
     "data": {
      "text/plain": [
       "<gurobi.Model Continuous instance Unnamed: 0 constrs, 0 vars, No parameter changes>"
      ]
     },
     "execution_count": 190,
     "metadata": {},
     "output_type": "execute_result"
    }
   ],
   "source": [
    "m = Model()\n",
    "m"
   ]
  },
  {
   "cell_type": "code",
   "execution_count": 191,
   "metadata": {},
   "outputs": [],
   "source": [
    "x = m.addVar(0,1,name=\"x\")\n",
    "y = m.addVar(0,1,name=\"y\")\n",
    "z = m.addVar(0,1,name=\"z\")"
   ]
  },
  {
   "cell_type": "code",
   "execution_count": 195,
   "metadata": {},
   "outputs": [],
   "source": [
    "def X(T:list):\n",
    "    a=T[0]\n",
    "    return T[0] + T[1] + 2*T[2]+a"
   ]
  },
  {
   "cell_type": "code",
   "execution_count": 203,
   "metadata": {},
   "outputs": [
    {
     "data": {
      "text/plain": [
       "gurobipy.Var"
      ]
     },
     "execution_count": 203,
     "metadata": {},
     "output_type": "execute_result"
    }
   ],
   "source": [
    "type(x)"
   ]
  },
  {
   "cell_type": "code",
   "execution_count": 197,
   "metadata": {},
   "outputs": [
    {
     "ename": "AttributeError",
     "evalue": "Index out of range for attribute 'VarName'",
     "output_type": "error",
     "traceback": [
      "\u001b[0;31m---------------------------------------------------------------------------\u001b[0m",
      "\u001b[0;31mAttributeError\u001b[0m                            Traceback (most recent call last)",
      "\u001b[0;32m~/opt/anaconda3/lib/python3.7/site-packages/IPython/core/formatters.py\u001b[0m in \u001b[0;36m__call__\u001b[0;34m(self, obj)\u001b[0m\n\u001b[1;32m    700\u001b[0m                 \u001b[0mtype_pprinters\u001b[0m\u001b[0;34m=\u001b[0m\u001b[0mself\u001b[0m\u001b[0;34m.\u001b[0m\u001b[0mtype_printers\u001b[0m\u001b[0;34m,\u001b[0m\u001b[0;34m\u001b[0m\u001b[0;34m\u001b[0m\u001b[0m\n\u001b[1;32m    701\u001b[0m                 deferred_pprinters=self.deferred_printers)\n\u001b[0;32m--> 702\u001b[0;31m             \u001b[0mprinter\u001b[0m\u001b[0;34m.\u001b[0m\u001b[0mpretty\u001b[0m\u001b[0;34m(\u001b[0m\u001b[0mobj\u001b[0m\u001b[0;34m)\u001b[0m\u001b[0;34m\u001b[0m\u001b[0;34m\u001b[0m\u001b[0m\n\u001b[0m\u001b[1;32m    703\u001b[0m             \u001b[0mprinter\u001b[0m\u001b[0;34m.\u001b[0m\u001b[0mflush\u001b[0m\u001b[0;34m(\u001b[0m\u001b[0;34m)\u001b[0m\u001b[0;34m\u001b[0m\u001b[0;34m\u001b[0m\u001b[0m\n\u001b[1;32m    704\u001b[0m             \u001b[0;32mreturn\u001b[0m \u001b[0mstream\u001b[0m\u001b[0;34m.\u001b[0m\u001b[0mgetvalue\u001b[0m\u001b[0;34m(\u001b[0m\u001b[0;34m)\u001b[0m\u001b[0;34m\u001b[0m\u001b[0;34m\u001b[0m\u001b[0m\n",
      "\u001b[0;32m~/opt/anaconda3/lib/python3.7/site-packages/IPython/lib/pretty.py\u001b[0m in \u001b[0;36mpretty\u001b[0;34m(self, obj)\u001b[0m\n\u001b[1;32m    400\u001b[0m                         \u001b[0;32mif\u001b[0m \u001b[0mcls\u001b[0m \u001b[0;32mis\u001b[0m \u001b[0;32mnot\u001b[0m \u001b[0mobject\u001b[0m\u001b[0;31m \u001b[0m\u001b[0;31m\\\u001b[0m\u001b[0;34m\u001b[0m\u001b[0;34m\u001b[0m\u001b[0m\n\u001b[1;32m    401\u001b[0m                                 \u001b[0;32mand\u001b[0m \u001b[0mcallable\u001b[0m\u001b[0;34m(\u001b[0m\u001b[0mcls\u001b[0m\u001b[0;34m.\u001b[0m\u001b[0m__dict__\u001b[0m\u001b[0;34m.\u001b[0m\u001b[0mget\u001b[0m\u001b[0;34m(\u001b[0m\u001b[0;34m'__repr__'\u001b[0m\u001b[0;34m)\u001b[0m\u001b[0;34m)\u001b[0m\u001b[0;34m:\u001b[0m\u001b[0;34m\u001b[0m\u001b[0;34m\u001b[0m\u001b[0m\n\u001b[0;32m--> 402\u001b[0;31m                             \u001b[0;32mreturn\u001b[0m \u001b[0m_repr_pprint\u001b[0m\u001b[0;34m(\u001b[0m\u001b[0mobj\u001b[0m\u001b[0;34m,\u001b[0m \u001b[0mself\u001b[0m\u001b[0;34m,\u001b[0m \u001b[0mcycle\u001b[0m\u001b[0;34m)\u001b[0m\u001b[0;34m\u001b[0m\u001b[0;34m\u001b[0m\u001b[0m\n\u001b[0m\u001b[1;32m    403\u001b[0m \u001b[0;34m\u001b[0m\u001b[0m\n\u001b[1;32m    404\u001b[0m             \u001b[0;32mreturn\u001b[0m \u001b[0m_default_pprint\u001b[0m\u001b[0;34m(\u001b[0m\u001b[0mobj\u001b[0m\u001b[0;34m,\u001b[0m \u001b[0mself\u001b[0m\u001b[0;34m,\u001b[0m \u001b[0mcycle\u001b[0m\u001b[0;34m)\u001b[0m\u001b[0;34m\u001b[0m\u001b[0;34m\u001b[0m\u001b[0m\n",
      "\u001b[0;32m~/opt/anaconda3/lib/python3.7/site-packages/IPython/lib/pretty.py\u001b[0m in \u001b[0;36m_repr_pprint\u001b[0;34m(obj, p, cycle)\u001b[0m\n\u001b[1;32m    695\u001b[0m     \u001b[0;34m\"\"\"A pprint that just redirects to the normal repr function.\"\"\"\u001b[0m\u001b[0;34m\u001b[0m\u001b[0;34m\u001b[0m\u001b[0m\n\u001b[1;32m    696\u001b[0m     \u001b[0;31m# Find newlines and replace them with p.break_()\u001b[0m\u001b[0;34m\u001b[0m\u001b[0;34m\u001b[0m\u001b[0;34m\u001b[0m\u001b[0m\n\u001b[0;32m--> 697\u001b[0;31m     \u001b[0moutput\u001b[0m \u001b[0;34m=\u001b[0m \u001b[0mrepr\u001b[0m\u001b[0;34m(\u001b[0m\u001b[0mobj\u001b[0m\u001b[0;34m)\u001b[0m\u001b[0;34m\u001b[0m\u001b[0;34m\u001b[0m\u001b[0m\n\u001b[0m\u001b[1;32m    698\u001b[0m     \u001b[0;32mfor\u001b[0m \u001b[0midx\u001b[0m\u001b[0;34m,\u001b[0m\u001b[0moutput_line\u001b[0m \u001b[0;32min\u001b[0m \u001b[0menumerate\u001b[0m\u001b[0;34m(\u001b[0m\u001b[0moutput\u001b[0m\u001b[0;34m.\u001b[0m\u001b[0msplitlines\u001b[0m\u001b[0;34m(\u001b[0m\u001b[0;34m)\u001b[0m\u001b[0;34m)\u001b[0m\u001b[0;34m:\u001b[0m\u001b[0;34m\u001b[0m\u001b[0;34m\u001b[0m\u001b[0m\n\u001b[1;32m    699\u001b[0m         \u001b[0;32mif\u001b[0m \u001b[0midx\u001b[0m\u001b[0;34m:\u001b[0m\u001b[0;34m\u001b[0m\u001b[0;34m\u001b[0m\u001b[0m\n",
      "\u001b[0;32mlinexpr.pxi\u001b[0m in \u001b[0;36mgurobipy.LinExpr.__repr__\u001b[0;34m()\u001b[0m\n",
      "\u001b[0;32mvar.pxi\u001b[0m in \u001b[0;36mgurobipy.Var.getAttr\u001b[0;34m()\u001b[0m\n",
      "\u001b[0;32mattrutil.pxi\u001b[0m in \u001b[0;36mgurobipy.__getattr\u001b[0;34m()\u001b[0m\n",
      "\u001b[0;31mAttributeError\u001b[0m: Index out of range for attribute 'VarName'"
     ]
    }
   ],
   "source": [
    "X([x,y,z])"
   ]
  },
  {
   "cell_type": "code",
   "execution_count": 198,
   "metadata": {},
   "outputs": [],
   "source": [
    "m.setObjective(X([x,y,z]), GRB.MINIMIZE)"
   ]
  },
  {
   "cell_type": "code",
   "execution_count": 199,
   "metadata": {},
   "outputs": [],
   "source": [
    "c1 = m.addConstr(x + 2*y + 3*z <= 4)\n",
    "c2 = m.addConstr(x + y >= 1)"
   ]
  },
  {
   "cell_type": "code",
   "execution_count": 200,
   "metadata": {},
   "outputs": [
    {
     "name": "stdout",
     "output_type": "stream",
     "text": [
      "Gurobi Optimizer version 9.0.1 build v9.0.1rc0 (mac64)\n",
      "Optimize a model with 2 rows, 3 columns and 5 nonzeros\n",
      "Model fingerprint: 0xc6101cf7\n",
      "Coefficient statistics:\n",
      "  Matrix range     [1e+00, 3e+00]\n",
      "  Objective range  [1e+00, 2e+00]\n",
      "  Bounds range     [1e+00, 1e+00]\n",
      "  RHS range        [1e+00, 4e+00]\n",
      "Presolve removed 2 rows and 3 columns\n",
      "Presolve time: 0.00s\n",
      "Presolve: All rows and columns removed\n",
      "Iteration    Objective       Primal Inf.    Dual Inf.      Time\n",
      "       0    1.0000000e+00   0.000000e+00   1.000000e+00      0s\n",
      "Extra one simplex iteration after uncrush\n",
      "       1    1.0000000e+00   0.000000e+00   0.000000e+00      0s\n",
      "\n",
      "Solved in 1 iterations and 0.01 seconds\n",
      "Optimal objective  1.000000000e+00\n"
     ]
    }
   ],
   "source": [
    "m.optimize()"
   ]
  },
  {
   "cell_type": "code",
   "execution_count": 201,
   "metadata": {},
   "outputs": [
    {
     "name": "stdout",
     "output_type": "stream",
     "text": [
      "\n",
      "    Variable            X \n",
      "-------------------------\n",
      "           y            1 \n"
     ]
    }
   ],
   "source": [
    "m.printAttr('X')"
   ]
  },
  {
   "cell_type": "code",
   "execution_count": 202,
   "metadata": {},
   "outputs": [
    {
     "data": {
      "text/plain": [
       "1.0"
      ]
     },
     "execution_count": 202,
     "metadata": {},
     "output_type": "execute_result"
    }
   ],
   "source": [
    "m.ObjVal"
   ]
  },
  {
   "cell_type": "code",
   "execution_count": 1,
   "metadata": {},
   "outputs": [],
   "source": [
    "from gurobipy import *"
   ]
  },
  {
   "cell_type": "code",
   "execution_count": 6,
   "metadata": {},
   "outputs": [],
   "source": [
    "Processing_time={'1_1':0,\n",
    "                 '2_1':3,\n",
    "                 '3_1':2,\n",
    "                 '4_1':2,\n",
    "                 '5_1':5,\n",
    "                 '6_1':2,\n",
    "                 '7_1':0,\n",
    "                 '1_2':0,\n",
    "                 '2_2':1,\n",
    "                 '3_2':3,\n",
    "                 '4_2':5,\n",
    "                 '5_2':2,\n",
    "                 '6_2':2,\n",
    "                 '7_2':0\n",
    "    \n",
    "}\n",
    "Resource_used={'1_1':0,\n",
    "                 '2_1':4,\n",
    "                 '3_1':1,\n",
    "                 '4_1':2,\n",
    "                 '5_1':3,\n",
    "                 '6_1':1,\n",
    "                 '7_1':0,\n",
    "                 '1_2':0,\n",
    "                 '2_2':4,\n",
    "                 '3_2':2,\n",
    "                 '4_2':1,\n",
    "                 '5_2':1,\n",
    "                 '6_2':2,\n",
    "                 '7_2':0\n",
    "    \n",
    "}\n",
    "Job1s=['1_1','2_1','3_1','4_1','5_1','6_1','7_1']\n",
    "Job2s=['1_2','2_2','3_2','4_2','5_2','6_2','7_2']\n",
    "Jobs=Job1s+Job2s\n",
    "times=[1,2,3,4,5,6,7,8,9,10,11,12,13,14,15,16,17,18,19,20]\n",
    "s1=0\n",
    "s2=0\n",
    "R=4\n",
    "T=20"
   ]
  },
  {
   "cell_type": "code",
   "execution_count": 7,
   "metadata": {},
   "outputs": [
    {
     "data": {
      "text/plain": [
       "[1, 2, 3, 4, 5, 6, 7, 8, 9, 10, 11, 12, 13, 14, 15, 16, 17, 18, 19, 20]"
      ]
     },
     "execution_count": 7,
     "metadata": {},
     "output_type": "execute_result"
    }
   ],
   "source": [
    "# lst=list(Processing_time.values())\n",
    "\n",
    "time"
   ]
  },
  {
   "cell_type": "code",
   "execution_count": 8,
   "metadata": {},
   "outputs": [],
   "source": [
    "m=Model()\n",
    "x=m.addVars(Jobs,time,name='start_time_bool',vtype=GRB.BINARY)\n",
    "omiga=m.addVars(Jobs,lb=0,ub=T,name='end_time',vtype=GRB.INTEGER)\n",
    "alpha=m.addVars(Jobs,lb=0,ub=T,name='start_time',vtype=GRB.INTEGER)\n",
    "y=m.addVars(Jobs,time,name='dauer_time_bool',vtype=GRB.BINARY)\n",
    "#Verspätung=m.addVar(vtype=GRB.INTEGER,name='Verspätung')"
   ]
  },
  {
   "cell_type": "code",
   "execution_count": 9,
   "metadata": {},
   "outputs": [],
   "source": [
    "m.addConstrs((alpha[Job]==omiga[Job]-Processing_time[Job] for Job in Jobs))\n",
    "m.addConstrs(alpha[Job]>=s1 for Job in Job1s)\n",
    "m.addConstrs(alpha[Job]>=s2 for Job in Job2s)\n",
    "\n",
    "m.addConstr(alpha['2_1']>=omiga['1_1'])\n",
    "m.addConstr(alpha['3_1']>=omiga['2_1'])\n",
    "m.addConstr(alpha['4_1']>=omiga['2_1'])\n",
    "m.addConstr(alpha['5_1']>=omiga['2_1'])\n",
    "m.addConstr(alpha['6_1']>=omiga['5_1'])\n",
    "m.addConstr(alpha['7_1']>=omiga['3_1'])\n",
    "m.addConstr(alpha['7_1']>=omiga['4_1'])\n",
    "m.addConstr(alpha['7_1']>=omiga['6_1'])\n",
    "m.addConstr(alpha['2_2']>=omiga['1_2'])\n",
    "m.addConstr(alpha['3_2']>=omiga['1_2'])\n",
    "m.addConstr(alpha['4_2']>=omiga['2_2'])\n",
    "m.addConstr(alpha['5_2']>=omiga['3_2'])\n",
    "m.addConstr(alpha['6_2']>=omiga['3_2'])\n",
    "m.addConstr(alpha['7_2']>=omiga['4_2'])\n",
    "m.addConstr(alpha['7_2']>=omiga['5_2'])\n",
    "m.addConstr(alpha['7_2']>=omiga['6_2'])\n",
    "\n",
    "for job in Jobs:\n",
    "    m.addConstr(quicksum(x[(job),time] for time in times)==1)\n",
    "\n",
    "\n",
    "for job in Jobs:\n",
    "    m.addConstr(quicksum(y[(job),time] for time in times)==Processing_time[job])\n",
    "\n",
    "\n",
    "\n",
    "for job in Jobs:\n",
    "    for timee in time[0:16]:\n",
    "        m.addGenConstrIndicator(x[job,timee],True,quicksum(y[job,timee+timeee] for timeee in range(Processing_time[job])),GRB.EQUAL,Processing_time[job])\n",
    "        \n",
    "\n",
    "\n",
    "for i in range(len(times)):\n",
    "    m.addConstr(quicksum(y[(Job),times[i]]*Resource_used[Job] for Job in Jobs)<=R)\n",
    "    \n",
    "for job in Jobs:\n",
    "    m.addConstr(quicksum(x[(job),time]*time for time in times)==alpha[job])\n",
    "\n",
    "    \n",
    "#m.addGenConstrAbs(Verspätung,omiga['7_1']-13+omiga['7_2']-15)\n",
    "    "
   ]
  },
  {
   "cell_type": "code",
   "execution_count": 10,
   "metadata": {},
   "outputs": [],
   "source": [
    "m.setObjective(omiga['7_1']-13+omiga['7_2']-15, GRB.MINIMIZE)\n"
   ]
  },
  {
   "cell_type": "code",
   "execution_count": 11,
   "metadata": {},
   "outputs": [
    {
     "name": "stdout",
     "output_type": "stream",
     "text": [
      "Gurobi Optimizer version 9.0.1 build v9.0.1rc0 (mac64)\n",
      "Optimize a model with 106 rows, 588 columns and 1128 nonzeros\n",
      "Model fingerprint: 0xbdf75438\n",
      "Model has 224 general constraints\n",
      "Variable types: 0 continuous, 588 integer (560 binary)\n",
      "Coefficient statistics:\n",
      "  Matrix range     [1e+00, 2e+01]\n",
      "  Objective range  [1e+00, 1e+00]\n",
      "  Bounds range     [1e+00, 2e+01]\n",
      "  RHS range        [1e+00, 5e+00]\n",
      "Presolve added 73 rows and 0 columns\n",
      "Presolve removed 0 rows and 255 columns\n",
      "Presolve time: 0.02s\n",
      "Presolved: 179 rows, 333 columns, 1119 nonzeros\n",
      "Variable types: 0 continuous, 333 integer (320 binary)\n",
      "Found heuristic solution: objective 12.0000000\n",
      "\n",
      "Root relaxation: objective -9.000000e+00, 305 iterations, 0.00 seconds\n",
      "\n",
      "    Nodes    |    Current Node    |     Objective Bounds      |     Work\n",
      " Expl Unexpl |  Obj  Depth IntInf | Incumbent    BestBd   Gap | It/Node Time\n",
      "\n",
      "     0     0   -9.00000    0   55   12.00000   -9.00000   175%     -    0s\n",
      "     0     0   -7.36000    0   88   12.00000   -7.36000   161%     -    0s\n",
      "H    0     0                       9.0000000   -7.36000   182%     -    0s\n",
      "     0     0   -7.00000    0   86    9.00000   -7.00000   178%     -    0s\n",
      "     0     0   -6.25000    0  100    9.00000   -6.25000   169%     -    0s\n",
      "     0     0   -6.25000    0   98    9.00000   -6.25000   169%     -    0s\n",
      "     0     0   -6.25000    0   99    9.00000   -6.25000   169%     -    0s\n",
      "H    0     0                       8.0000000   -6.00000   175%     -    0s\n",
      "H    0     0                       7.0000000   -6.00000   186%     -    0s\n",
      "H    0     0                       6.0000000   -6.00000   200%     -    0s\n",
      "     0     0   -4.73760    0   98    6.00000   -4.73760   179%     -    0s\n",
      "     0     0   -4.57937    0   87    6.00000   -4.57937   176%     -    0s\n",
      "     0     2   -4.57937    0   86    6.00000   -4.57937   176%     -    0s\n",
      "H   37    32                       5.0000000   -4.44444   189%  55.3    0s\n",
      "H   41    32                      -1.0000000   -4.44444   344%  55.3    0s\n",
      "*   53    20               9      -2.0000000   -4.44444   122%  43.0    0s\n",
      "*   58    10               6      -4.0000000   -4.00000  0.00%  43.2    0s\n",
      "\n",
      "Cutting planes:\n",
      "  Gomory: 1\n",
      "  Cover: 106\n",
      "  Implied bound: 26\n",
      "  Clique: 18\n",
      "  MIR: 31\n",
      "  StrongCG: 2\n",
      "  GUB cover: 6\n",
      "  Inf proof: 2\n",
      "  Zero half: 10\n",
      "  RLT: 6\n",
      "  Relax-and-lift: 2\n",
      "\n",
      "Explored 67 nodes (3732 simplex iterations) in 0.16 seconds\n",
      "Thread count was 12 (of 12 available processors)\n",
      "\n",
      "Solution count 9: -4 -2 -1 ... 12\n",
      "No other solutions better than -4\n",
      "\n",
      "Optimal solution found (tolerance 1.00e-04)\n",
      "Best objective -4.000000000000e+00, best bound -4.000000000000e+00, gap 0.0000%\n"
     ]
    }
   ],
   "source": [
    "m.optimize()"
   ]
  },
  {
   "cell_type": "code",
   "execution_count": 12,
   "metadata": {},
   "outputs": [
    {
     "name": "stdout",
     "output_type": "stream",
     "text": [
      "\n",
      "    Variable            X \n",
      "-------------------------\n",
      "start_time_bool[1_1,1]            1 \n",
      "start_time_bool[2_1,7]            1 \n",
      "start_time_bool[3_1,12]            1 \n",
      "start_time_bool[4_1,15]            1 \n",
      "start_time_bool[5_1,10]            1 \n",
      "start_time_bool[6_1,15]            1 \n",
      "start_time_bool[7_1,17]            1 \n",
      "start_time_bool[1_2,1]            1 \n",
      "start_time_bool[2_2,1]            1 \n",
      "start_time_bool[3_2,2]            1 \n",
      "start_time_bool[4_2,2]            1 \n",
      "start_time_bool[5_2,5]            1 \n",
      "start_time_bool[6_2,5]            1 \n",
      "start_time_bool[7_2,7]            1 \n",
      "end_time[1_1]            1 \n",
      "end_time[2_1]           10 \n",
      "end_time[3_1]           14 \n",
      "end_time[4_1]           17 \n",
      "end_time[5_1]           15 \n",
      "end_time[6_1]           17 \n",
      "end_time[7_1]           17 \n",
      "end_time[1_2]            1 \n",
      "end_time[2_2]            2 \n",
      "end_time[3_2]            5 \n",
      "end_time[4_2]            7 \n",
      "end_time[5_2]            7 \n",
      "end_time[6_2]            7 \n",
      "end_time[7_2]            7 \n",
      "start_time[1_1]            1 \n",
      "start_time[2_1]            7 \n",
      "start_time[3_1]           12 \n",
      "start_time[4_1]           15 \n",
      "start_time[5_1]           10 \n",
      "start_time[6_1]           15 \n",
      "start_time[7_1]           17 \n",
      "start_time[1_2]            1 \n",
      "start_time[2_2]            1 \n",
      "start_time[3_2]            2 \n",
      "start_time[4_2]            2 \n",
      "start_time[5_2]            5 \n",
      "start_time[6_2]            5 \n",
      "start_time[7_2]            7 \n",
      "dauer_time_bool[2_1,7]            1 \n",
      "dauer_time_bool[2_1,8]            1 \n",
      "dauer_time_bool[2_1,9]            1 \n",
      "dauer_time_bool[3_1,12]            1 \n",
      "dauer_time_bool[3_1,13]            1 \n",
      "dauer_time_bool[4_1,15]            1 \n",
      "dauer_time_bool[4_1,16]            1 \n",
      "dauer_time_bool[5_1,10]            1 \n",
      "dauer_time_bool[5_1,11]            1 \n",
      "dauer_time_bool[5_1,12]            1 \n",
      "dauer_time_bool[5_1,13]            1 \n",
      "dauer_time_bool[5_1,14]            1 \n",
      "dauer_time_bool[6_1,15]            1 \n",
      "dauer_time_bool[6_1,16]            1 \n",
      "dauer_time_bool[2_2,1]            1 \n",
      "dauer_time_bool[3_2,2]            1 \n",
      "dauer_time_bool[3_2,3]            1 \n",
      "dauer_time_bool[3_2,4]            1 \n",
      "dauer_time_bool[4_2,2]            1 \n",
      "dauer_time_bool[4_2,3]            1 \n",
      "dauer_time_bool[4_2,4]            1 \n",
      "dauer_time_bool[4_2,5]            1 \n",
      "dauer_time_bool[4_2,6]            1 \n",
      "dauer_time_bool[5_2,5]            1 \n",
      "dauer_time_bool[5_2,6]            1 \n",
      "dauer_time_bool[6_2,5]            1 \n",
      "dauer_time_bool[6_2,6]            1 \n"
     ]
    }
   ],
   "source": [
    "m.printAttr('X')"
   ]
  },
  {
   "cell_type": "code",
   "execution_count": 13,
   "metadata": {},
   "outputs": [
    {
     "data": {
      "text/plain": [
       "-4.000000000000007"
      ]
     },
     "execution_count": 13,
     "metadata": {},
     "output_type": "execute_result"
    }
   ],
   "source": [
    "m.ObjVal"
   ]
  },
  {
   "cell_type": "code",
   "execution_count": 22,
   "metadata": {},
   "outputs": [
    {
     "data": {
      "text/plain": [
       "7.0"
      ]
     },
     "execution_count": 22,
     "metadata": {},
     "output_type": "execute_result"
    }
   ],
   "source": [
    "omiga['4_2'].X"
   ]
  },
  {
   "cell_type": "code",
   "execution_count": 395,
   "metadata": {},
   "outputs": [],
   "source": [
    "m.write('Verspätung.lp')"
   ]
  },
  {
   "cell_type": "code",
   "execution_count": 396,
   "metadata": {},
   "outputs": [
    {
     "ename": "GurobiError",
     "evalue": "Can't import file 'Verspätung.lp' into a model",
     "output_type": "error",
     "traceback": [
      "\u001b[0;31m---------------------------------------------------------------------------\u001b[0m",
      "\u001b[0;31mGurobiError\u001b[0m                               Traceback (most recent call last)",
      "\u001b[0;32m<ipython-input-396-f74b943c2517>\u001b[0m in \u001b[0;36m<module>\u001b[0;34m\u001b[0m\n\u001b[0;32m----> 1\u001b[0;31m \u001b[0mm\u001b[0m\u001b[0;34m.\u001b[0m\u001b[0mread\u001b[0m\u001b[0;34m(\u001b[0m\u001b[0;34m'Verspätung.lp'\u001b[0m\u001b[0;34m)\u001b[0m\u001b[0;34m\u001b[0m\u001b[0;34m\u001b[0m\u001b[0m\n\u001b[0m",
      "\u001b[0;32mmodel.pxi\u001b[0m in \u001b[0;36mgurobipy.Model.read\u001b[0;34m()\u001b[0m\n",
      "\u001b[0;31mGurobiError\u001b[0m: Can't import file 'Verspätung.lp' into a model"
     ]
    }
   ],
   "source": []
  },
  {
   "cell_type": "code",
   "execution_count": null,
   "metadata": {},
   "outputs": [],
   "source": []
  }
 ],
 "metadata": {
  "kernelspec": {
   "display_name": "Python 3",
   "language": "python",
   "name": "python3"
  },
  "language_info": {
   "codemirror_mode": {
    "name": "ipython",
    "version": 3
   },
   "file_extension": ".py",
   "mimetype": "text/x-python",
   "name": "python",
   "nbconvert_exporter": "python",
   "pygments_lexer": "ipython3",
   "version": "3.7.4"
  }
 },
 "nbformat": 4,
 "nbformat_minor": 2
}
